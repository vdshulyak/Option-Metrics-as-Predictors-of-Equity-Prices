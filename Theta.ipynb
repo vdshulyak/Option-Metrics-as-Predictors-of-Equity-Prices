{
 "cells": [
  {
   "cell_type": "code",
   "execution_count": 30,
   "metadata": {
    "scrolled": true
   },
   "outputs": [
    {
     "data": {},
     "metadata": {},
     "output_type": "display_data"
    },
    {
     "data": {
      "application/vnd.holoviews_exec.v0+json": "",
      "text/html": [
       "<div id='5430'>\n",
       "\n",
       "\n",
       "\n",
       "\n",
       "\n",
       "  <div class=\"bk-root\" id=\"f06f9a74-4d8a-4497-9415-49d032333d1e\" data-root-id=\"5430\"></div>\n",
       "</div>\n",
       "<script type=\"application/javascript\">(function(root) {\n",
       "  function embed_document(root) {\n",
       "    var docs_json = {\"ec3c36a9-56f1-41a1-af2e-6d720129776e\":{\"roots\":{\"references\":[{\"attributes\":{\"text\":\"\",\"text_color\":{\"value\":\"black\"},\"text_font_size\":{\"value\":\"12pt\"}},\"id\":\"5438\",\"type\":\"Title\"},{\"attributes\":{},\"id\":\"5451\",\"type\":\"BasicTicker\"},{\"attributes\":{\"months\":[0,4,8]},\"id\":\"5496\",\"type\":\"MonthsTicker\"},{\"attributes\":{},\"id\":\"5472\",\"type\":\"Selection\"},{\"attributes\":{},\"id\":\"5467\",\"type\":\"DatetimeTickFormatter\"},{\"attributes\":{\"months\":[0,2,4,6,8,10]},\"id\":\"5495\",\"type\":\"MonthsTicker\"},{\"attributes\":{\"days\":[1,8,15,22]},\"id\":\"5492\",\"type\":\"DaysTicker\"},{\"attributes\":{},\"id\":\"5444\",\"type\":\"LinearScale\"},{\"attributes\":{\"days\":[1,2,3,4,5,6,7,8,9,10,11,12,13,14,15,16,17,18,19,20,21,22,23,24,25,26,27,28,29,30,31]},\"id\":\"5490\",\"type\":\"DaysTicker\"},{\"attributes\":{},\"id\":\"5469\",\"type\":\"BasicTickFormatter\"},{\"attributes\":{\"children\":[{\"id\":\"5431\"},{\"id\":\"5437\"},{\"id\":\"5756\"}],\"margin\":[0,0,0,0],\"name\":\"Row08721\",\"tags\":[\"embedded\"]},\"id\":\"5430\",\"type\":\"Row\"},{\"attributes\":{\"months\":[0,6]},\"id\":\"5497\",\"type\":\"MonthsTicker\"},{\"attributes\":{\"axis_label\":\"Date\",\"bounds\":\"auto\",\"formatter\":{\"id\":\"5467\"},\"major_label_orientation\":\"horizontal\",\"ticker\":{\"id\":\"5447\"}},\"id\":\"5446\",\"type\":\"DatetimeAxis\"},{\"attributes\":{},\"id\":\"5442\",\"type\":\"LinearScale\"},{\"attributes\":{\"line_alpha\":0.1,\"line_color\":\"#2ba02b\",\"line_width\":2,\"x\":{\"field\":\"Date\"},\"y\":{\"field\":\"theta\"}},\"id\":\"5536\",\"type\":\"Line\"},{\"attributes\":{},\"id\":\"5551\",\"type\":\"UnionRenderers\"},{\"attributes\":{\"margin\":[5,5,5,5],\"name\":\"HSpacer08725\",\"sizing_mode\":\"stretch_width\"},\"id\":\"5431\",\"type\":\"Spacer\"},{\"attributes\":{\"num_minor_ticks\":5,\"tickers\":[{\"id\":\"5487\"},{\"id\":\"5488\"},{\"id\":\"5489\"},{\"id\":\"5490\"},{\"id\":\"5491\"},{\"id\":\"5492\"},{\"id\":\"5493\"},{\"id\":\"5494\"},{\"id\":\"5495\"},{\"id\":\"5496\"},{\"id\":\"5497\"},{\"id\":\"5498\"}]},\"id\":\"5447\",\"type\":\"DatetimeTicker\"},{\"attributes\":{\"axis\":{\"id\":\"5450\"},\"dimension\":1,\"grid_line_color\":null,\"ticker\":null},\"id\":\"5453\",\"type\":\"Grid\"},{\"attributes\":{},\"id\":\"5498\",\"type\":\"YearsTicker\"},{\"attributes\":{\"axis\":{\"id\":\"5446\"},\"grid_line_color\":null,\"ticker\":null},\"id\":\"5449\",\"type\":\"Grid\"},{\"attributes\":{\"click_policy\":\"mute\",\"items\":[{\"id\":\"5500\"},{\"id\":\"5531\"}]},\"id\":\"5499\",\"type\":\"Legend\"},{\"attributes\":{},\"id\":\"5518\",\"type\":\"UnionRenderers\"},{\"attributes\":{\"data_source\":{\"id\":\"5532\"},\"glyph\":{\"id\":\"5535\"},\"hover_glyph\":null,\"muted_glyph\":{\"id\":\"5537\"},\"nonselection_glyph\":{\"id\":\"5536\"},\"selection_glyph\":null,\"view\":{\"id\":\"5539\"}},\"id\":\"5538\",\"type\":\"GlyphRenderer\"},{\"attributes\":{},\"id\":\"5502\",\"type\":\"Selection\"},{\"attributes\":{\"label\":{\"value\":\"ATM\"},\"renderers\":[{\"id\":\"5477\"}]},\"id\":\"5500\",\"type\":\"LegendItem\"},{\"attributes\":{\"months\":[0,1,2,3,4,5,6,7,8,9,10,11]},\"id\":\"5494\",\"type\":\"MonthsTicker\"},{\"attributes\":{},\"id\":\"5454\",\"type\":\"SaveTool\"},{\"attributes\":{\"line_alpha\":0.2,\"line_color\":\"#2ba02b\",\"line_width\":2,\"x\":{\"field\":\"Date\"},\"y\":{\"field\":\"theta\"}},\"id\":\"5537\",\"type\":\"Line\"},{\"attributes\":{},\"id\":\"5455\",\"type\":\"PanTool\"},{\"attributes\":{},\"id\":\"5458\",\"type\":\"ResetTool\"},{\"attributes\":{\"line_color\":\"#1f77b3\",\"line_width\":2,\"x\":{\"field\":\"Date\"},\"y\":{\"field\":\"theta\"}},\"id\":\"5474\",\"type\":\"Line\"},{\"attributes\":{\"mantissas\":[1,2,5],\"max_interval\":500.0,\"num_minor_ticks\":0},\"id\":\"5487\",\"type\":\"AdaptiveTicker\"},{\"attributes\":{},\"id\":\"5456\",\"type\":\"WheelZoomTool\"},{\"attributes\":{},\"id\":\"5533\",\"type\":\"Selection\"},{\"attributes\":{\"source\":{\"id\":\"5532\"}},\"id\":\"5539\",\"type\":\"CDSView\"},{\"attributes\":{\"overlay\":{\"id\":\"5459\"}},\"id\":\"5457\",\"type\":\"BoxZoomTool\"},{\"attributes\":{\"base\":24,\"mantissas\":[1,2,4,6,8,12],\"max_interval\":43200000.0,\"min_interval\":3600000.0,\"num_minor_ticks\":0},\"id\":\"5489\",\"type\":\"AdaptiveTicker\"},{\"attributes\":{\"end\":18.345940000000002,\"reset_end\":18.345940000000002,\"reset_start\":-421.91654,\"start\":-421.91654,\"tags\":[[[\"theta\",\"theta\",null]]]},\"id\":\"5433\",\"type\":\"Range1d\"},{\"attributes\":{\"callback\":null,\"formatters\":{\"@{Date}\":\"datetime\"},\"renderers\":[{\"id\":\"5477\"},{\"id\":\"5507\"},{\"id\":\"5538\"}],\"tags\":[\"hv_created\"],\"tooltips\":[[\"Date\",\"@{Date}{%F %T}\"],[\"theta\",\"@{theta}\"]]},\"id\":\"5434\",\"type\":\"HoverTool\"},{\"attributes\":{\"line_alpha\":0.1,\"line_color\":\"#1f77b3\",\"line_width\":2,\"x\":{\"field\":\"Date\"},\"y\":{\"field\":\"theta\"}},\"id\":\"5475\",\"type\":\"Line\"},{\"attributes\":{\"source\":{\"id\":\"5501\"}},\"id\":\"5508\",\"type\":\"CDSView\"},{\"attributes\":{\"data\":{\"Date\":{\"__ndarray__\":\"AADAt54VcEIAAIAd8RVwQgAAQINDFnBCAAAA6ZUWcEIAAMDlMRhwQgAAgEuEGHBCAABAsdYYcEI=\",\"dtype\":\"float64\",\"order\":\"little\",\"shape\":[7]},\"theta\":{\"__ndarray__\":\"ZDvfT43XMsBkO99PjRc2wDSitDf4EjPAJzEIrBzqOMDarPpcbWU+wAXFjzF36VfAXCBB8WMsP8A=\",\"dtype\":\"float64\",\"order\":\"little\",\"shape\":[7]}},\"selected\":{\"id\":\"5502\"},\"selection_policy\":{\"id\":\"5518\"}},\"id\":\"5501\",\"type\":\"ColumnDataSource\"},{\"attributes\":{\"margin\":[5,5,5,5],\"name\":\"HSpacer08726\",\"sizing_mode\":\"stretch_width\"},\"id\":\"5756\",\"type\":\"Spacer\"},{\"attributes\":{\"data_source\":{\"id\":\"5471\"},\"glyph\":{\"id\":\"5474\"},\"hover_glyph\":null,\"muted_glyph\":{\"id\":\"5476\"},\"nonselection_glyph\":{\"id\":\"5475\"},\"selection_glyph\":null,\"view\":{\"id\":\"5478\"}},\"id\":\"5477\",\"type\":\"GlyphRenderer\"},{\"attributes\":{\"days\":[1,4,7,10,13,16,19,22,25,28]},\"id\":\"5491\",\"type\":\"DaysTicker\"},{\"attributes\":{\"below\":[{\"id\":\"5446\"}],\"center\":[{\"id\":\"5449\"},{\"id\":\"5453\"},{\"id\":\"5499\"}],\"left\":[{\"id\":\"5450\"}],\"margin\":[5,5,5,5],\"min_border_bottom\":10,\"min_border_left\":10,\"min_border_right\":10,\"min_border_top\":10,\"plot_height\":300,\"plot_width\":700,\"renderers\":[{\"id\":\"5477\"},{\"id\":\"5507\"},{\"id\":\"5538\"}],\"sizing_mode\":\"fixed\",\"title\":{\"id\":\"5438\"},\"toolbar\":{\"id\":\"5460\"},\"x_range\":{\"id\":\"5432\"},\"x_scale\":{\"id\":\"5442\"},\"y_range\":{\"id\":\"5433\"},\"y_scale\":{\"id\":\"5444\"}},\"id\":\"5437\",\"subtype\":\"Figure\",\"type\":\"Plot\"},{\"attributes\":{},\"id\":\"5486\",\"type\":\"UnionRenderers\"},{\"attributes\":{\"days\":[1,15]},\"id\":\"5493\",\"type\":\"DaysTicker\"},{\"attributes\":{\"base\":60,\"mantissas\":[1,2,5,10,15,20,30],\"max_interval\":1800000.0,\"min_interval\":1000.0,\"num_minor_ticks\":0},\"id\":\"5488\",\"type\":\"AdaptiveTicker\"},{\"attributes\":{\"line_alpha\":0.2,\"line_color\":\"#1f77b3\",\"line_width\":2,\"x\":{\"field\":\"Date\"},\"y\":{\"field\":\"theta\"}},\"id\":\"5476\",\"type\":\"Line\"},{\"attributes\":{\"line_alpha\":0.1,\"line_color\":\"#ff7e0e\",\"line_width\":2,\"x\":{\"field\":\"Date\"},\"y\":{\"field\":\"theta\"}},\"id\":\"5505\",\"type\":\"Line\"},{\"attributes\":{\"line_color\":\"#2ba02b\",\"line_width\":2,\"x\":{\"field\":\"Date\"},\"y\":{\"field\":\"theta\"}},\"id\":\"5535\",\"type\":\"Line\"},{\"attributes\":{\"line_color\":\"#ff7e0e\",\"line_width\":2,\"x\":{\"field\":\"Date\"},\"y\":{\"field\":\"theta\"}},\"id\":\"5504\",\"type\":\"Line\"},{\"attributes\":{\"active_drag\":\"auto\",\"active_inspect\":\"auto\",\"active_multi\":null,\"active_scroll\":\"auto\",\"active_tap\":\"auto\",\"tools\":[{\"id\":\"5434\"},{\"id\":\"5454\"},{\"id\":\"5455\"},{\"id\":\"5456\"},{\"id\":\"5457\"},{\"id\":\"5458\"}]},\"id\":\"5460\",\"type\":\"Toolbar\"},{\"attributes\":{\"data\":{\"Date\":{\"__ndarray__\":\"AADAt54VcEIAAIAd8RVwQgAAQINDFnBCAAAA6ZUWcEIAAMDlMRhwQgAAgEuEGHBCAABAsdYYcEI=\",\"dtype\":\"float64\",\"order\":\"little\",\"shape\":[7]},\"theta\":{\"__ndarray__\":\"D5wzorRXMsCNKO0NvgAzwLG/7J487DjAwhcmUwUDOMDpt68D54xKwPkP6bev22DAz/dT46UTeMA=\",\"dtype\":\"float64\",\"order\":\"little\",\"shape\":[7]}},\"selected\":{\"id\":\"5472\"},\"selection_policy\":{\"id\":\"5486\"}},\"id\":\"5471\",\"type\":\"ColumnDataSource\"},{\"attributes\":{\"data_source\":{\"id\":\"5501\"},\"glyph\":{\"id\":\"5504\"},\"hover_glyph\":null,\"muted_glyph\":{\"id\":\"5506\"},\"nonselection_glyph\":{\"id\":\"5505\"},\"selection_glyph\":null,\"view\":{\"id\":\"5508\"}},\"id\":\"5507\",\"type\":\"GlyphRenderer\"},{\"attributes\":{\"line_alpha\":0.2,\"line_color\":\"#ff7e0e\",\"line_width\":2,\"x\":{\"field\":\"Date\"},\"y\":{\"field\":\"theta\"}},\"id\":\"5506\",\"type\":\"Line\"},{\"attributes\":{\"bottom_units\":\"screen\",\"fill_alpha\":0.5,\"fill_color\":\"lightgrey\",\"left_units\":\"screen\",\"level\":\"overlay\",\"line_alpha\":1.0,\"line_color\":\"black\",\"line_dash\":[4,4],\"line_width\":2,\"right_units\":\"screen\",\"top_units\":\"screen\"},\"id\":\"5459\",\"type\":\"BoxAnnotation\"},{\"attributes\":{\"source\":{\"id\":\"5471\"}},\"id\":\"5478\",\"type\":\"CDSView\"},{\"attributes\":{\"axis_label\":\"theta\",\"bounds\":\"auto\",\"formatter\":{\"id\":\"5469\"},\"major_label_orientation\":\"horizontal\",\"ticker\":{\"id\":\"5451\"}},\"id\":\"5450\",\"type\":\"LinearAxis\"},{\"attributes\":{\"end\":1106179200000.0,\"reset_end\":1106179200000.0,\"reset_start\":1105315200000.0,\"start\":1105315200000.0,\"tags\":[[[\"Date\",\"Date\",null]]]},\"id\":\"5432\",\"type\":\"Range1d\"},{\"attributes\":{\"label\":{\"value\":\"ITM\"},\"renderers\":[{\"id\":\"5507\"}]},\"id\":\"5531\",\"type\":\"LegendItem\"},{\"attributes\":{\"data\":{\"Date\":[],\"theta\":{\"__ndarray__\":\"\",\"dtype\":\"float64\",\"order\":\"little\",\"shape\":[0]}},\"selected\":{\"id\":\"5533\"},\"selection_policy\":{\"id\":\"5551\"}},\"id\":\"5532\",\"type\":\"ColumnDataSource\"}],\"root_ids\":[\"5430\"]},\"title\":\"Bokeh Application\",\"version\":\"2.2.3\"}};\n",
       "    var render_items = [{\"docid\":\"ec3c36a9-56f1-41a1-af2e-6d720129776e\",\"root_ids\":[\"5430\"],\"roots\":{\"5430\":\"f06f9a74-4d8a-4497-9415-49d032333d1e\"}}];\n",
       "    root.Bokeh.embed.embed_items_notebook(docs_json, render_items);\n",
       "  }\n",
       "  if (root.Bokeh !== undefined && root.Bokeh.Panel !== undefined) {\n",
       "    embed_document(root);\n",
       "  } else {\n",
       "    var attempts = 0;\n",
       "    var timer = setInterval(function(root) {\n",
       "      if (root.Bokeh !== undefined && root.Bokeh.Panel !== undefined) {\n",
       "        clearInterval(timer);\n",
       "        embed_document(root);\n",
       "      } else if (document.readyState == \"complete\") {\n",
       "        attempts++;\n",
       "        if (attempts > 100) {\n",
       "          clearInterval(timer);\n",
       "          console.log(\"Bokeh: ERROR: Unable to run BokehJS code because BokehJS library is missing\");\n",
       "        }\n",
       "      }\n",
       "    }, 10, root)\n",
       "  }\n",
       "})(window);</script>"
      ],
      "text/plain": [
       ":Overlay\n",
       "   .Curve.ATM :Curve   [Date]   (theta)\n",
       "   .Curve.ITM :Curve   [Date]   (theta)\n",
       "   .Curve.I   :Curve   [Date]   (theta)"
      ]
     },
     "execution_count": 30,
     "metadata": {
      "application/vnd.holoviews_exec.v0+json": {
       "id": "5430"
      }
     },
     "output_type": "execute_result"
    }
   ],
   "source": [
    "import pandas as pd\n",
    "\n",
    "import plotly.express as px\n",
    "\n",
    "import hvplot.pandas\n",
    "from pathlib import Path\n",
    "\n",
    "pd.set_option('display.max_rows', None)\n",
    "\n",
    "path = \"C:/Users/racon/OneDrive/Desktop/FinTech_Group6/SPY20050107to20050131.csv\"\n",
    "\n",
    "spy_close_prices=pd.read_csv(path, usecols =[\"underlying\" , \"underlying_last\" , \"quotedate\"])\n",
    "\n",
    "spy_close_prices.rename(columns = {'quotedate':'Date'}, inplace = True)\n",
    "\n",
    "spy_close_prices['Date'] = pd.to_datetime(spy_close_prices['Date'])\n",
    "\n",
    "spy_close_prices['Date'] = spy_close_prices['Date'].dt.date\n",
    "\n",
    "spy_close_prices.set_index(keys = \"Date\" , inplace = True)\n",
    "\n",
    "spy_close_prices = spy_close_prices.drop_duplicates()\n",
    "\n",
    "spy_close_prices\n",
    "\n",
    "theta=pd.read_csv(path, usecols =['last' ,\"theta\" , \"optionroot\" , \"quotedate\" , \"expiration\"])\n",
    "\n",
    "theta.rename(columns = {'quotedate':'Date'}, inplace = True)\n",
    "\n",
    "theta['Date'] = pd.to_datetime(theta['Date'])\n",
    "\n",
    "theta['Date'] = theta['Date'].dt.date\n",
    "\n",
    "theta['Date'] = theta['Date'] - pd.Timedelta(1, unit='D')\n",
    "\n",
    "indexNames = theta[ theta['last'] == 0 ].index\n",
    "# Delete these row indexes from dataFrame\n",
    "theta.drop(indexNames , inplace=True)\n",
    "\n",
    "theta = theta.set_index('Date')\n",
    "\n",
    "# theta\n",
    "\n",
    "combined_df = pd.merge(left = theta  ,right = spy_close_prices , on = 'Date' ,  how = 'inner')\n",
    "\n",
    "close_to_exp_at = combined_df['optionroot'] == 'SPY050122P00116000'\n",
    "close_to_exp_in = combined_df['optionroot'] == 'SPY050122P00120000'\n",
    "close_to_exp_out = combined_df['optionroot'] == 'SPY050122P00110000'\n",
    "\n",
    "\n",
    "combined_df_at = combined_df[close_to_exp_at]\n",
    "combined_df_in = combined_df[close_to_exp_in]\n",
    "combined_df_out = combined_df[close_to_exp_out]\n",
    "\n",
    "combined_df_at.hvplot.line(y = \"theta\" , x=\"Date\" , label = 'ATM') *combined_df_in.hvplot.line(y = \"theta\" , x=\"Date\", label = 'ITM') *combined_df_out.hvplot.line(y = \"theta\" , x=\"Date\")"
   ]
  },
  {
   "cell_type": "code",
   "execution_count": null,
   "metadata": {},
   "outputs": [],
   "source": []
  },
  {
   "cell_type": "code",
   "execution_count": null,
   "metadata": {},
   "outputs": [],
   "source": []
  },
  {
   "cell_type": "code",
   "execution_count": null,
   "metadata": {},
   "outputs": [],
   "source": []
  }
 ],
 "metadata": {
  "kernelspec": {
   "display_name": "Python 3",
   "language": "python",
   "name": "python3"
  },
  "language_info": {
   "codemirror_mode": {
    "name": "ipython",
    "version": 3
   },
   "file_extension": ".py",
   "mimetype": "text/x-python",
   "name": "python",
   "nbconvert_exporter": "python",
   "pygments_lexer": "ipython3",
   "version": "3.7.9"
  }
 },
 "nbformat": 4,
 "nbformat_minor": 4
}
